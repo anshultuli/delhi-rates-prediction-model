{
 "cells": [
  {
   "cell_type": "code",
   "execution_count": 1,
   "id": "b03e259d",
   "metadata": {},
   "outputs": [],
   "source": [
    "import numpy as np\n",
    "import pandas as pd\n",
    "from matplotlib import pyplot as plt\n",
    "import seaborn as sns\n",
    "%matplotlib inline"
   ]
  },
  {
   "cell_type": "code",
   "execution_count": 2,
   "id": "1f01fddb",
   "metadata": {},
   "outputs": [],
   "source": [
    "df=pd.read_csv('C:/Users/Anshul/Downloads/Datasets/Delhi_v2.csv')"
   ]
  },
  {
   "cell_type": "code",
   "execution_count": 3,
   "id": "ec96ded9",
   "metadata": {},
   "outputs": [
    {
     "data": {
      "text/plain": [
       "7738"
      ]
     },
     "execution_count": 3,
     "metadata": {},
     "output_type": "execute_result"
    }
   ],
   "source": [
    "len(df)"
   ]
  },
  {
   "cell_type": "code",
   "execution_count": 4,
   "id": "b9a63a2a",
   "metadata": {},
   "outputs": [],
   "source": [
    "df.columns=df.columns.str.lower().str.replace(' ','_')"
   ]
  },
  {
   "cell_type": "code",
   "execution_count": 5,
   "id": "a81b63a1",
   "metadata": {},
   "outputs": [],
   "source": [
    "string_columns=list(df.dtypes[df.dtypes=='object'].index)\n",
    "for col in string_columns:\n",
    "    df[col]=df[col].str.lower().str.replace(' ','_')"
   ]
  },
  {
   "cell_type": "code",
   "execution_count": 6,
   "id": "f843b98a",
   "metadata": {},
   "outputs": [
    {
     "data": {
      "text/html": [
       "<div>\n",
       "<style scoped>\n",
       "    .dataframe tbody tr th:only-of-type {\n",
       "        vertical-align: middle;\n",
       "    }\n",
       "\n",
       "    .dataframe tbody tr th {\n",
       "        vertical-align: top;\n",
       "    }\n",
       "\n",
       "    .dataframe thead th {\n",
       "        text-align: right;\n",
       "    }\n",
       "</style>\n",
       "<table border=\"1\" class=\"dataframe\">\n",
       "  <thead>\n",
       "    <tr style=\"text-align: right;\">\n",
       "      <th></th>\n",
       "      <th>unnamed:_0</th>\n",
       "      <th>price</th>\n",
       "      <th>address</th>\n",
       "      <th>area</th>\n",
       "      <th>latitude</th>\n",
       "      <th>longitude</th>\n",
       "      <th>bedrooms</th>\n",
       "      <th>bathrooms</th>\n",
       "      <th>balcony</th>\n",
       "      <th>status</th>\n",
       "      <th>neworold</th>\n",
       "      <th>parking</th>\n",
       "      <th>furnished_status</th>\n",
       "      <th>lift</th>\n",
       "      <th>landmarks</th>\n",
       "      <th>type_of_building</th>\n",
       "      <th>desc</th>\n",
       "      <th>price_sqft</th>\n",
       "    </tr>\n",
       "  </thead>\n",
       "  <tbody>\n",
       "    <tr>\n",
       "      <th>0</th>\n",
       "      <td>0</td>\n",
       "      <td>5600000.0</td>\n",
       "      <td>noida_extension,_noida,_delhi_ncr</td>\n",
       "      <td>1350.0</td>\n",
       "      <td>28.608850</td>\n",
       "      <td>77.460560</td>\n",
       "      <td>3.0</td>\n",
       "      <td>3.0</td>\n",
       "      <td>NaN</td>\n",
       "      <td>under_construction</td>\n",
       "      <td>new_property</td>\n",
       "      <td>NaN</td>\n",
       "      <td>NaN</td>\n",
       "      <td>2.0</td>\n",
       "      <td>NaN</td>\n",
       "      <td>flat</td>\n",
       "      <td>\\n\\n\\n________________________________welcome_...</td>\n",
       "      <td>4148.148148</td>\n",
       "    </tr>\n",
       "    <tr>\n",
       "      <th>1</th>\n",
       "      <td>1</td>\n",
       "      <td>8800000.0</td>\n",
       "      <td>sector_79,_gurgaon,_delhi_ncr</td>\n",
       "      <td>1490.0</td>\n",
       "      <td>28.374236</td>\n",
       "      <td>76.952416</td>\n",
       "      <td>3.0</td>\n",
       "      <td>3.0</td>\n",
       "      <td>NaN</td>\n",
       "      <td>ready_to_move</td>\n",
       "      <td>new_property</td>\n",
       "      <td>NaN</td>\n",
       "      <td>semi-furnished</td>\n",
       "      <td>2.0</td>\n",
       "      <td>NaN</td>\n",
       "      <td>flat</td>\n",
       "      <td>\\n\\n\\n________________________________mapsko_m...</td>\n",
       "      <td>5906.040268</td>\n",
       "    </tr>\n",
       "    <tr>\n",
       "      <th>2</th>\n",
       "      <td>2</td>\n",
       "      <td>16500000.0</td>\n",
       "      <td>vaishali,_ghaziabad,_delhi_ncr</td>\n",
       "      <td>2385.0</td>\n",
       "      <td>28.645769</td>\n",
       "      <td>77.385110</td>\n",
       "      <td>4.0</td>\n",
       "      <td>5.0</td>\n",
       "      <td>NaN</td>\n",
       "      <td>ready_to_move</td>\n",
       "      <td>new_property</td>\n",
       "      <td>1.0</td>\n",
       "      <td>unfurnished</td>\n",
       "      <td>NaN</td>\n",
       "      <td>NaN</td>\n",
       "      <td>flat</td>\n",
       "      <td>\\n\\n\\n________________________________this_pro...</td>\n",
       "      <td>6918.238994</td>\n",
       "    </tr>\n",
       "    <tr>\n",
       "      <th>3</th>\n",
       "      <td>3</td>\n",
       "      <td>3810000.0</td>\n",
       "      <td>link_road,_f_block,_sector_50,_noida,_uttar_pr...</td>\n",
       "      <td>1050.0</td>\n",
       "      <td>28.566914</td>\n",
       "      <td>77.436434</td>\n",
       "      <td>2.0</td>\n",
       "      <td>2.0</td>\n",
       "      <td>3.0</td>\n",
       "      <td>NaN</td>\n",
       "      <td>new_property</td>\n",
       "      <td>1.0</td>\n",
       "      <td>unfurnished</td>\n",
       "      <td>2.0</td>\n",
       "      <td>near_gaur_mulberry_mansion</td>\n",
       "      <td>flat</td>\n",
       "      <td>\\n\\n\\n________________________________aig_roya...</td>\n",
       "      <td>3628.571429</td>\n",
       "    </tr>\n",
       "    <tr>\n",
       "      <th>4</th>\n",
       "      <td>4</td>\n",
       "      <td>6200000.0</td>\n",
       "      <td>jaypee_pavilion_court_sector_128,_noida,_secto...</td>\n",
       "      <td>1350.0</td>\n",
       "      <td>28.520732</td>\n",
       "      <td>77.356491</td>\n",
       "      <td>2.0</td>\n",
       "      <td>2.0</td>\n",
       "      <td>3.0</td>\n",
       "      <td>ready_to_move</td>\n",
       "      <td>resale</td>\n",
       "      <td>1.0</td>\n",
       "      <td>NaN</td>\n",
       "      <td>3.0</td>\n",
       "      <td>NaN</td>\n",
       "      <td>flat</td>\n",
       "      <td>\\n\\n\\n________________________________the_prop...</td>\n",
       "      <td>4592.592593</td>\n",
       "    </tr>\n",
       "  </tbody>\n",
       "</table>\n",
       "</div>"
      ],
      "text/plain": [
       "   unnamed:_0       price                                            address  \\\n",
       "0           0   5600000.0                  noida_extension,_noida,_delhi_ncr   \n",
       "1           1   8800000.0                      sector_79,_gurgaon,_delhi_ncr   \n",
       "2           2  16500000.0                     vaishali,_ghaziabad,_delhi_ncr   \n",
       "3           3   3810000.0  link_road,_f_block,_sector_50,_noida,_uttar_pr...   \n",
       "4           4   6200000.0  jaypee_pavilion_court_sector_128,_noida,_secto...   \n",
       "\n",
       "     area   latitude  longitude  bedrooms  bathrooms  balcony  \\\n",
       "0  1350.0  28.608850  77.460560       3.0        3.0      NaN   \n",
       "1  1490.0  28.374236  76.952416       3.0        3.0      NaN   \n",
       "2  2385.0  28.645769  77.385110       4.0        5.0      NaN   \n",
       "3  1050.0  28.566914  77.436434       2.0        2.0      3.0   \n",
       "4  1350.0  28.520732  77.356491       2.0        2.0      3.0   \n",
       "\n",
       "               status      neworold  parking furnished_status  lift  \\\n",
       "0  under_construction  new_property      NaN              NaN   2.0   \n",
       "1       ready_to_move  new_property      NaN   semi-furnished   2.0   \n",
       "2       ready_to_move  new_property      1.0      unfurnished   NaN   \n",
       "3                 NaN  new_property      1.0      unfurnished   2.0   \n",
       "4       ready_to_move        resale      1.0              NaN   3.0   \n",
       "\n",
       "                    landmarks type_of_building  \\\n",
       "0                         NaN             flat   \n",
       "1                         NaN             flat   \n",
       "2                         NaN             flat   \n",
       "3  near_gaur_mulberry_mansion             flat   \n",
       "4                         NaN             flat   \n",
       "\n",
       "                                                desc   price_sqft  \n",
       "0  \\n\\n\\n________________________________welcome_...  4148.148148  \n",
       "1  \\n\\n\\n________________________________mapsko_m...  5906.040268  \n",
       "2  \\n\\n\\n________________________________this_pro...  6918.238994  \n",
       "3  \\n\\n\\n________________________________aig_roya...  3628.571429  \n",
       "4  \\n\\n\\n________________________________the_prop...  4592.592593  "
      ]
     },
     "execution_count": 6,
     "metadata": {},
     "output_type": "execute_result"
    }
   ],
   "source": [
    "df.head()"
   ]
  },
  {
   "cell_type": "code",
   "execution_count": 7,
   "id": "55babea6",
   "metadata": {},
   "outputs": [
    {
     "data": {
      "text/plain": [
       "<AxesSubplot:xlabel='price_sqft', ylabel='Count'>"
      ]
     },
     "execution_count": 7,
     "metadata": {},
     "output_type": "execute_result"
    },
    {
     "data": {
      "image/png": "[encoded data removed]",
      "text/plain": [
       "<Figure size 432x288 with 1 Axes>"
      ]
     },
     "metadata": {
      "needs_background": "light"
     },
     "output_type": "display_data"
    }
   ],
   "source": [
    "sns.histplot(df.price_sqft,bins=40)"
   ]
  },
  {
   "cell_type": "code",
   "execution_count": 8,
   "id": "05ce464f",
   "metadata": {},
   "outputs": [
    {
     "data": {
      "text/plain": [
       "<AxesSubplot:xlabel='price_sqft', ylabel='Count'>"
      ]
     },
     "execution_count": 8,
     "metadata": {},
     "output_type": "execute_result"
    },
    {
     "data": {
      "image/png": "[encoded data removed]",
      "text/plain": [
       "<Figure size 432x288 with 1 Axes>"
      ]
     },
     "metadata": {
      "needs_background": "light"
     },
     "output_type": "display_data"
    }
   ],
   "source": [
    "sns.histplot(df.price_sqft[df.price_sqft<30000])"
   ]
  },
  {
   "cell_type": "code",
   "execution_count": 9,
   "id": "1223dd1a",
   "metadata": {},
   "outputs": [],
   "source": [
    "log_price=np.log1p(df.price_sqft)"
   ]
  },
  {
   "cell_type": "code",
   "execution_count": 10,
   "id": "591234e4",
   "metadata": {},
   "outputs": [
    {
     "data": {
      "text/plain": [
       "<AxesSubplot:xlabel='price_sqft', ylabel='Count'>"
      ]
     },
     "execution_count": 10,
     "metadata": {},
     "output_type": "execute_result"
    },
    {
     "data": {
      "image/png": "[encoded data removed]",
      "text/plain": [
       "<Figure size 432x288 with 1 Axes>"
      ]
     },
     "metadata": {
      "needs_background": "light"
     },
     "output_type": "display_data"
    }
   ],
   "source": [
    "sns.histplot(log_price)"
   ]
  },
  {
   "cell_type": "code",
   "execution_count": 11,
   "id": "c46ed0f7",
   "metadata": {},
   "outputs": [],
   "source": [
    "n=len(df)\n",
    "n_val=int(0.2*n)\n",
    "n_test=int(0.2*n)\n",
    "n_train=n-(n_val+n_test)\n",
    "\n",
    "np.random.seed(2)\n",
    "idx=np.arange(n)\n",
    "np.random.shuffle(idx)\n",
    "\n",
    "df_shuffled=df.iloc[idx]\n",
    "df_train=df_shuffled.iloc[:n_train].copy()\n",
    "df_val=df_shuffled.iloc[n_train:n_train+n_val].copy()\n",
    "df_test=df_shuffled.iloc[n_train+n_val:].copy()"
   ]
  },
  {
   "cell_type": "code",
   "execution_count": 12,
   "id": "19aebefd",
   "metadata": {},
   "outputs": [],
   "source": [
    "y_train=np.log1p(df_train.price_sqft.values)\n",
    "y_val=np.log1p(df_val.price_sqft.values)\n",
    "y_test=np.log1p(df_test.price_sqft.values)"
   ]
  },
  {
   "cell_type": "code",
   "execution_count": 13,
   "id": "36f8c8ca",
   "metadata": {},
   "outputs": [],
   "source": [
    "def train_linear_regression(X,y):\n",
    "    ones=np.ones(X.shape[0])\n",
    "    X=np.column_stack([ones,X])\n",
    "    \n",
    "    XTX=X.T.dot(X)\n",
    "    XTX_inv=np.linalg.inv(XTX)\n",
    "    w=XTX_inv.dot(X.T).dot(y)\n",
    "    return w[0],w[1:]"
   ]
  },
  {
   "cell_type": "code",
   "execution_count": 14,
   "id": "0cfa6022",
   "metadata": {},
   "outputs": [],
   "source": [
    "df=df.fillna(0)"
   ]
  },
  {
   "cell_type": "code",
   "execution_count": 15,
   "id": "237d166b",
   "metadata": {},
   "outputs": [
    {
     "data": {
      "text/plain": [
       "unnamed:_0          0\n",
       "price               0\n",
       "address             0\n",
       "area                0\n",
       "latitude            0\n",
       "longitude           0\n",
       "bedrooms            0\n",
       "bathrooms           0\n",
       "balcony             0\n",
       "status              0\n",
       "neworold            0\n",
       "parking             0\n",
       "furnished_status    0\n",
       "lift                0\n",
       "landmarks           0\n",
       "type_of_building    0\n",
       "desc                0\n",
       "price_sqft          0\n",
       "dtype: int64"
      ]
     },
     "execution_count": 15,
     "metadata": {},
     "output_type": "execute_result"
    }
   ],
   "source": [
    "df.isnull().sum()"
   ]
  },
  {
   "cell_type": "code",
   "execution_count": 16,
   "id": "41caa46c",
   "metadata": {},
   "outputs": [],
   "source": [
    "def rmse(y,y_pred):\n",
    "    error=y_pred-y\n",
    "    mse=(error**2).mean()\n",
    "    return np.sqrt(mse)"
   ]
  },
  {
   "cell_type": "code",
   "execution_count": 17,
   "id": "0f258b72",
   "metadata": {},
   "outputs": [],
   "source": [
    "base=['price','area','latitude','longitude','bedrooms','balcony']\n",
    "def prepare_X(df):\n",
    "    df=df.copy()\n",
    "    features=base.copy()\n",
    "    \n",
    "\n",
    "    df_num=df[features]\n",
    "    df_num=df_num.fillna(0)\n",
    "    X=df_num.values\n",
    "    return X"
   ]
  },
  {
   "cell_type": "code",
   "execution_count": 20,
   "id": "07a0f8e5",
   "metadata": {},
   "outputs": [
    {
     "name": "stdout",
     "output_type": "stream",
     "text": [
      "validation error: 0.1753905334076539\n",
      "test error:  0.1736533360775058\n"
     ]
    }
   ],
   "source": [
    "X_train=prepare_X(df_train)\n",
    "w_0,w=train_linear_regression(X_train,y_train)\n",
    "X_val=prepare_X(df_val)\n",
    "y_pred=w_0 + X_val.dot(w)\n",
    "print('validation error:',rmse(y_val,y_pred))\n",
    "\n",
    "X_test=prepare_X(df_test)\n",
    "y_pred=w_0 + X_test.dot(w)\n",
    "print('test error: ',rmse(y_test,y_pred))"
   ]
  },
  {
   "cell_type": "code",
   "execution_count": null,
   "id": "7cc4e4b3",
   "metadata": {},
   "outputs": [],
   "source": []
  },
  {
   "cell_type": "code",
   "execution_count": null,
   "id": "78950eb1",
   "metadata": {},
   "outputs": [],
   "source": []
  }
 ],
 "metadata": {
  "kernelspec": {
   "display_name": "Python 3 (ipykernel)",
   "language": "python",
   "name": "python3"
  },
  "language_info": {
   "codemirror_mode": {
    "name": "ipython",
    "version": 3
   },
   "file_extension": ".py",
   "mimetype": "text/x-python",
   "name": "python",
   "nbconvert_exporter": "python",
   "pygments_lexer": "ipython3",
   "version": "3.10.2"
  }
 },
 "nbformat": 4,
 "nbformat_minor": 5
}
